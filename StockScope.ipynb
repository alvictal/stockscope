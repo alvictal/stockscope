{
  "nbformat": 4,
  "nbformat_minor": 0,
  "metadata": {
    "colab": {
      "provenance": [],
      "authorship_tag": "ABX9TyOdOta06yiZhekQN9bPBA8a",
      "include_colab_link": true
    },
    "kernelspec": {
      "name": "python3",
      "display_name": "Python 3"
    },
    "language_info": {
      "name": "python"
    }
  },
  "cells": [
    {
      "cell_type": "markdown",
      "metadata": {
        "id": "view-in-github",
        "colab_type": "text"
      },
      "source": [
        "<a href=\"https://colab.research.google.com/github/alvictal/stockscope/blob/main/StockScope.ipynb\" target=\"_parent\"><img src=\"https://colab.research.google.com/assets/colab-badge.svg\" alt=\"Open In Colab\"/></a>"
      ]
    },
    {
      "cell_type": "code",
      "execution_count": 1,
      "metadata": {
        "id": "i1mGJRhs3EF_"
      },
      "outputs": [],
      "source": [
        "!pip install -q -U google-generativeai"
      ]
    },
    {
      "cell_type": "code",
      "source": [
        "!pip install -q -U yfinance\n"
      ],
      "metadata": {
        "id": "t9GSnCeB3PcR"
      },
      "execution_count": 2,
      "outputs": []
    },
    {
      "cell_type": "code",
      "source": [
        "import yfinance as yf\n",
        "import google.generativeai as genai\n",
        "import textwrap\n",
        "from IPython.display import display\n",
        "from IPython.display import Markdown\n",
        "from google.colab import userdata\n",
        "\n",
        "def to_markdown(text):\n",
        "  text = text.replace('$', '\\$')\n",
        "  return Markdown(textwrap.indent(text, '> ', predicate=lambda _: True))\n",
        "\n",
        "\n",
        "# Armazenamento da chave de API\n",
        "api_key = userdata.get(\"SKEY\")\n",
        "\n",
        "# Configuração da chave de API\n",
        "genai.configure(api_key = api_key)\n",
        "\n",
        "generation_config = {\n",
        "    \"candidate_count\" : 1,\n",
        "    \"temperature\" : 0.8,\n",
        "    \"top_p\": 0.90,\n",
        "    \"top_k\" : 32\n",
        "}\n",
        "\n",
        "safety_settings = {\n",
        "    \"HARASSMENT\" : \"BLOCK_MEDIUM_AND_ABOVE\",\n",
        "    \"HATE\" : \"BLOCK_MEDIUM_AND_ABOVE\",\n",
        "    \"SEXUAL\" : \"BLOCK_MEDIUM_AND_ABOVE\",\n",
        "    \"DANGEROUS\" : \"BLOCK_MEDIUM_AND_ABOVE\"\n",
        "}\n",
        "\n",
        "model = genai.GenerativeModel(\"gemini-1.0-pro\",\n",
        "                              generation_config = generation_config,\n",
        "                              safety_settings = safety_settings)\n",
        "\n",
        "#Input do usuário para qual ação deseja olhar\n",
        "stock = input(\"Qual ação você deseja fazer uma analise (exemplo PETR4.SA): \")\n",
        "stock = stock.upper()\n",
        "ticket = yf.Ticker(stock)\n",
        "\n",
        "#prompts de analise para informação de fluxo de caixa\n",
        "prompt = f'Como uma pessoa com pouco conhecimento em ações \\\n",
        "Faça uma analise da ação {stock} baseado nas informações de fluxo de caixa da empresa. \\\n",
        "As informações the fluxo de caixa  estão \\\n",
        "tabuladas abaixo\\n'\n",
        "prompt += ticket.quarterly_cashflow.to_markdown()\n",
        "\n",
        "#guardando informação de fluxo de caixa para uso no ultimo prompt de conclusão\n",
        "response = model.generate_content(prompt)\n",
        "response_text = \"# Analise de Fluxo de caixa \\n\"\n",
        "response_text += response.text\n",
        "response_text += \"\\n\\n\"\n",
        "\n",
        "#prompt de analise para informação de balanço financeiro\n",
        "prompt = f'Como uma pessoa com pouco conhecimento em ações \\\n",
        "Faça uma analise da ação {stock} baseado nas informações de balanço da empresa. \\\n",
        "As informações balanço estão \\\n",
        "tabuladas abaixo\\n'\n",
        "prompt += ticket.quarterly_balancesheet.to_markdown()\n",
        "\n",
        "#guardando informação de balanço financeiro para uso no ultimo prompt de conclusão\n",
        "response = model.generate_content(prompt)\n",
        "response_text += \"# Analise do balanço financeiro da empresa \\n\"\n",
        "response_text += response.text\n",
        "response_text += \"\\n\\n\"\n",
        "\n",
        "#Tirando conclusão com as informações obtidas\n",
        "prompt = \"Através das informações abaixo, conclua se vale investir na empresa, indicando pontos positivos e pontos negaticos\\n\"\n",
        "prompt += response_text\n",
        "\n",
        "\n",
        "#Imprimindo as informações para o usuário\n",
        "response = model.generate_content(prompt)\n",
        "display(to_markdown(response_text))\n",
        "display(to_markdown(\"# Conclusão\"))\n",
        "display(to_markdown(response.text))\n",
        "\n"
      ],
      "metadata": {
        "id": "tQnxKfBy3bn_"
      },
      "execution_count": null,
      "outputs": []
    }
  ]
}